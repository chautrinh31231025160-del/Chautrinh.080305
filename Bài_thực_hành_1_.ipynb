{
  "nbformat": 4,
  "nbformat_minor": 0,
  "metadata": {
    "colab": {
      "provenance": [],
      "authorship_tag": "ABX9TyOs2bTJ/4R4voYDdSntSqNA",
      "include_colab_link": true
    },
    "kernelspec": {
      "name": "python3",
      "display_name": "Python 3"
    },
    "language_info": {
      "name": "python"
    }
  },
  "cells": [
    {
      "cell_type": "markdown",
      "metadata": {
        "id": "view-in-github",
        "colab_type": "text"
      },
      "source": [
        "<a href=\"https://colab.research.google.com/github/chautrinh31231025160-del/Chautrinh.080305/blob/main/B%C3%A0i_th%E1%BB%B1c_h%C3%A0nh_1_.ipynb\" target=\"_parent\"><img src=\"https://colab.research.google.com/assets/colab-badge.svg\" alt=\"Open In Colab\"/></a>"
      ]
    },
    {
      "cell_type": "code",
      "execution_count": null,
      "metadata": {
        "id": "yeLxvY7Lswak"
      },
      "outputs": [],
      "source": []
    },
    {
      "cell_type": "markdown",
      "source": [
        "Bài 1. In chuỗi\n"
      ],
      "metadata": {
        "id": "DfpCq9BBs7Hf"
      }
    },
    {
      "cell_type": "code",
      "source": [
        "print(\"Whoever is happy will make others happy too\");\n",
        "print(\"--Anne Frank\");"
      ],
      "metadata": {
        "colab": {
          "base_uri": "https://localhost:8080/"
        },
        "id": "gSJWwXQKs9Yu",
        "outputId": "148ef495-cda5-4e7a-8d15-0cee8d24c609"
      },
      "execution_count": 1,
      "outputs": [
        {
          "output_type": "stream",
          "name": "stdout",
          "text": [
            "Whoever is happy will make others happy too\n",
            "--Anne Frank\n"
          ]
        }
      ]
    },
    {
      "cell_type": "markdown",
      "source": [
        "Bài 2. Biểu thức tính toán"
      ],
      "metadata": {
        "id": "PhdksOsItpvl"
      }
    },
    {
      "cell_type": "code",
      "source": [
        "# Nhập dữ liệu\n",
        "a = int(input(\"Moi ban nhap so a: \"))\n",
        "b = int(input(\"Moi ban nhap so b: \"))\n",
        "# Xử lý\n",
        "kqCong = a + b\n",
        "kqTru = a - b\n",
        "kqNhan = a * b\n",
        "kqChiaNguyen = a // b\n",
        "kqDu= a % b\n",
        "kqChiaThuc = a / b\n",
        "# Xuất dữ liệu\n",
        "print(\"Cac ket qua tinh toan: \")\n",
        "print(\"%-5d + %5d = %5d\"%(a, b, kqCong))\n",
        "print(\"%-5d - %5d = %5d\"%(a, b, kqTru))\n",
        "print(\"%-5d * %5d = %5d\"%(a, b, kqNhan))\n",
        "print(\"%-5d / %5d = %5d\"%(a, b, kqChiaNguyen))\n",
        "print(\"%-5d / %5d = %5d\"%(a, b, kqDu))\n",
        "print(\"%-5d / %5d = %5.2f\"%(a, b, kqChiaThuc))\n"
      ],
      "metadata": {
        "colab": {
          "base_uri": "https://localhost:8080/"
        },
        "id": "yh0gjPFattC-",
        "outputId": "06797977-dd52-4b7c-8ccb-27406ae42cb8"
      },
      "execution_count": 2,
      "outputs": [
        {
          "output_type": "stream",
          "name": "stdout",
          "text": [
            "Moi ban nhap so a: 7\n",
            "Moi ban nhap so b: 6\n",
            "Cac ket qua tinh toan: \n",
            "7     +     6 =    13\n",
            "7     -     6 =     1\n",
            "7     *     6 =    42\n",
            "7     /     6 =     1\n",
            "7     /     6 =     1\n",
            "7     /     6 =  1.17\n"
          ]
        }
      ]
    },
    {
      "cell_type": "markdown",
      "source": [
        "Bài 3. Biểu thức so sánh"
      ],
      "metadata": {
        "id": "ko6PgJoquJnV"
      }
    },
    {
      "cell_type": "code",
      "source": [
        "# Nhập dữ liệu\n",
        "a = float(input(\"Moi ban nhap so a: \"))\n",
        "b = float(input(\"Moi ban nhap so b: \"))\n",
        "# Xử lý\n",
        "laNhoHon = (a < b)\n",
        "laNhoHonBang = (a <= b)\n",
        "laLonHon = (a > b)\n",
        "laLonHonBang = (a >= b)\n",
        "laBang = (a == b)\n",
        "laKhacNhau = (a != b)\n",
        "# Xuất dữ liệu\n",
        "print(\"Ket qua so sanh hai so thuc %.2f va %.2f:\"%(a, b))\n",
        "print(\"%-8.2f < %8.2f: %8s\"%(a, b, laNhoHon))\n",
        "print(\"%-8.2f <= %8.2f: %8s\"%(a, b, laNhoHonBang))\n",
        "print(\"%-8.2f > %8.2f: %8s\"%(a, b, laLonHon))\n",
        "print(\"%-8.2f >= %8.2f: %8s\"%(a, b, laLonHonBang))\n",
        "print(\"%-8.2f == %8.2f: %8s\"%(a, b, laBang))\n",
        "print(\"%-8.2f != %8.2f: %8s\"%(a, b, laKhacNhau))"
      ],
      "metadata": {
        "colab": {
          "base_uri": "https://localhost:8080/"
        },
        "id": "7Dq5_h4GuL0O",
        "outputId": "e663824e-43ed-4091-dab5-d16a3df64cb0"
      },
      "execution_count": 3,
      "outputs": [
        {
          "output_type": "stream",
          "name": "stdout",
          "text": [
            "Moi ban nhap so a: 7\n",
            "Moi ban nhap so b: 9\n",
            "Ket qua so sanh hai so thuc 7.00 va 9.00:\n",
            "7.00     <     9.00:     True\n",
            "7.00     <=     9.00:     True\n",
            "7.00     >     9.00:    False\n",
            "7.00     >=     9.00:    False\n",
            "7.00     ==     9.00:    False\n",
            "7.00     !=     9.00:     True\n"
          ]
        }
      ]
    },
    {
      "cell_type": "markdown",
      "source": [
        "Bài 4. Tính giá trị hàm số"
      ],
      "metadata": {
        "id": "f8th9GNvuYP1"
      }
    },
    {
      "cell_type": "code",
      "source": [
        "# Nạp thư viện\n",
        "import math\n",
        "# Nhập dữ liệu\n",
        "x = float(input(\"Moi ban nhap vao gia tri cua bien so x: \"))\n",
        "# Xử lý\n",
        "fx = x + math.pow(x, 5) / (1 * 2 * 3 * 4 * 5) + \\\n",
        "math.sqrt(abs(x)) / math.pow(x, 3.0 / 2)\n",
        "# Xuất dữ liệu\n",
        "print(\"Gia tri cua ham so f(%.2f) = %.2f.\"%(x, fx))"
      ],
      "metadata": {
        "colab": {
          "base_uri": "https://localhost:8080/"
        },
        "id": "6y5IGCJGuiBa",
        "outputId": "01e85540-c2bd-460d-8363-387af3514aa4"
      },
      "execution_count": 4,
      "outputs": [
        {
          "output_type": "stream",
          "name": "stdout",
          "text": [
            "Moi ban nhap vao gia tri cua bien so x: 5\n",
            "Gia tri cua ham so f(5.00) = 31.24.\n"
          ]
        }
      ]
    },
    {
      "cell_type": "markdown",
      "source": [
        "Bài 5. Tổng chữ số"
      ],
      "metadata": {
        "id": "4blSATx2uo6O"
      }
    },
    {
      "cell_type": "code",
      "source": [
        "# Nạp thư viện\n",
        "import math\n",
        "# Nhập dữ liệu\n",
        "x = float(input(\"Moi ban nhap vao gia tri cua bien so x: \"))\n",
        "# Xử lý\n",
        "fx = x + math.pow(x, 5) / (1 * 2 * 3 * 4 * 5) + \\\n",
        "math.sqrt(abs(x)) / math.pow(x, 3.0 / 2)\n",
        "# Xuất dữ liệu\n",
        "print(\"Gia tri cua ham so f(%.2f) = %.2f.\"%(x, fx))\n"
      ],
      "metadata": {
        "colab": {
          "base_uri": "https://localhost:8080/"
        },
        "id": "5WZZiaHrup2t",
        "outputId": "0f2fa671-ef59-423c-dbf1-c06ce80553ea"
      },
      "execution_count": 5,
      "outputs": [
        {
          "output_type": "stream",
          "name": "stdout",
          "text": [
            "Moi ban nhap vao gia tri cua bien so x: 6\n",
            "Gia tri cua ham so f(6.00) = 70.97.\n"
          ]
        }
      ]
    },
    {
      "cell_type": "markdown",
      "source": [
        "**BÀI** **TẬP** **THỰC** **HÀNH**\n"
      ],
      "metadata": {
        "id": "uJAs98yEvIn4"
      }
    },
    {
      "cell_type": "markdown",
      "source": [
        "Bài 1. In nhãn"
      ],
      "metadata": {
        "id": "mwHeccUxvVHe"
      }
    },
    {
      "cell_type": "code",
      "source": [
        "\n",
        "    print(\"*************************\")\n",
        "    print(\"* Truong: Dai Hoc UEH   *\")\n",
        "    print(\"* Khoa: CNTT            *\")\n",
        "    print(\"* Ho ten:               *\")\n",
        "    print(\"*************************\")"
      ],
      "metadata": {
        "colab": {
          "base_uri": "https://localhost:8080/"
        },
        "id": "Ic2Bvz4uvzNG",
        "outputId": "ed5fae4a-2956-42d7-e9cd-0d5c892a4b97"
      },
      "execution_count": 11,
      "outputs": [
        {
          "output_type": "stream",
          "name": "stdout",
          "text": [
            "*************************\n",
            "* Truong: Dai Hoc UEH   *\n",
            "* Khoa: CNTT            *\n",
            "* Ho ten:               *\n",
            "*************************\n"
          ]
        }
      ]
    },
    {
      "cell_type": "markdown",
      "source": [
        "Bài 2. Tính diện tích và chu hình tròn"
      ],
      "metadata": {
        "id": "P1VE5CBuwFuu"
      }
    },
    {
      "cell_type": "code",
      "source": [
        "# Nhập bán kính\n",
        "R = float(input(\"Nhap ban kinh R: \"))\n",
        "\n",
        "# Tính toán\n",
        "S = 3.14 * R * R\n",
        "P = 2 * 3.14 * R\n",
        "\n",
        "# In kết quả với 1 số lẻ thập phân\n",
        "print(f\"Dien tich S = {S:.1f}\")\n",
        "print(f\"Chu vi P = {P:.1f}\")"
      ],
      "metadata": {
        "colab": {
          "base_uri": "https://localhost:8080/"
        },
        "id": "nN9MycJLwSe6",
        "outputId": "7a5d9174-6360-4e9f-9d98-e934b9460e95"
      },
      "execution_count": 12,
      "outputs": [
        {
          "output_type": "stream",
          "name": "stdout",
          "text": [
            "Nhap ban kinh R: 5\n",
            "Dien tich S = 78.5\n",
            "Chu vi P = 31.4\n"
          ]
        }
      ]
    },
    {
      "cell_type": "markdown",
      "source": [
        "Bài 3. Đổi sang giây"
      ],
      "metadata": {
        "id": "xy08FYuWwW32"
      }
    },
    {
      "cell_type": "code",
      "source": [
        "# Nhập dữ liệu\n",
        "h = int(input(\"Nhap so gio: \"))\n",
        "m = int(input(\"Nhap so phut: \"))\n",
        "s = int(input(\"Nhap so giay: \"))\n",
        "\n",
        "# Đổi sang tổng số giây\n",
        "total_seconds = h * 3600 + m * 60 + s\n",
        "\n",
        "# In kết quả\n",
        "print(f\"Tong so giay cua {h}:{m}:{s} la {total_seconds} giay\")"
      ],
      "metadata": {
        "colab": {
          "base_uri": "https://localhost:8080/"
        },
        "id": "a6ETp1OIwaiq",
        "outputId": "6e0b767d-84a7-442d-8828-f9c10dab89a2"
      },
      "execution_count": 13,
      "outputs": [
        {
          "output_type": "stream",
          "name": "stdout",
          "text": [
            "Nhap so gio: 5\n",
            "Nhap so phut: 7\n",
            "Nhap so giay: 59\n",
            "Tong so giay cua 5:7:59 la 18479 giay\n"
          ]
        }
      ]
    },
    {
      "cell_type": "markdown",
      "source": [
        "Bài 4. Đổi sang giờ phút giây"
      ],
      "metadata": {
        "id": "8MMuhqANwpZV"
      }
    },
    {
      "cell_type": "code",
      "source": [
        "# Nhập tổng số giây\n",
        "t = int(input(\"Nhap vao tong so giay: \"))\n",
        "\n",
        "# Tính giờ, phút, giây\n",
        "h = t // 3600\n",
        "m = (t % 3600) // 60\n",
        "s = t % 60\n",
        "\n",
        "# In kết quả\n",
        "print(f\"{t} giay co dang {h}:{m}:{s}\")"
      ],
      "metadata": {
        "colab": {
          "base_uri": "https://localhost:8080/"
        },
        "id": "tbR6wWGqwsdO",
        "outputId": "2cff7b40-4d47-4319-c1f4-410121635db9"
      },
      "execution_count": 14,
      "outputs": [
        {
          "output_type": "stream",
          "name": "stdout",
          "text": [
            "Nhap vao tong so giay: 54\n",
            "54 giay co dang 0:0:54\n"
          ]
        }
      ]
    },
    {
      "cell_type": "markdown",
      "source": [
        "Bài 5. Tính diện tích tam giác\n"
      ],
      "metadata": {
        "id": "FcF0Yhfay0sr"
      }
    },
    {
      "cell_type": "code",
      "source": [
        "# Nhập độ dài 3 cạnh\n",
        "a = float(input(\"Nhap do dai canh a: \"))\n",
        "b = float(input(\"Nhap do dai canh b: \"))\n",
        "c = float(input(\"Nhap do dai canh c: \"))\n",
        "\n",
        "# Kiểm tra điều kiện tồn tại tam giác\n",
        "if a <= 0 or b <= 0 or c <= 0 or (a + b <= c) or (a + c <= b) or (b + c <= a):\n",
        "    print(\"Ba canh khong tao thanh tam giac hop le.\")\n",
        "else:\n",
        "    p = (a + b + c) / 2\n",
        "    S = math.sqrt(p * (p - a) * (p - b) * (p - c))\n",
        "    print(f\"Dien tich tam giac S = {S:.2f}\")"
      ],
      "metadata": {
        "colab": {
          "base_uri": "https://localhost:8080/"
        },
        "id": "_fi-6Afjy3D9",
        "outputId": "bce30cbf-8cf4-4077-e792-343f0b73e78f"
      },
      "execution_count": 15,
      "outputs": [
        {
          "output_type": "stream",
          "name": "stdout",
          "text": [
            "Nhap do dai canh a: 6\n",
            "Nhap do dai canh b: 5\n",
            "Nhap do dai canh c: 3\n",
            "Dien tich tam giac S = 7.48\n"
          ]
        }
      ]
    },
    {
      "cell_type": "markdown",
      "source": [
        "Bài 6. Hàm mũ"
      ],
      "metadata": {
        "id": "opHBHvjY34EU"
      }
    },
    {
      "cell_type": "code",
      "source": [
        "# Nhập dữ liệu\n",
        "a = float(input(\"Nhap so thuc a: \"))\n",
        "n = int(input(\"Nhap so mu n: \"))\n",
        "\n",
        "# Tính a^n\n",
        "ketqua = a ** n\n",
        "\n",
        "# In kết quả\n",
        "print(f\"Ket qua {a}^{n} = {ketqua}\")"
      ],
      "metadata": {
        "colab": {
          "base_uri": "https://localhost:8080/"
        },
        "id": "Fa5kHK-V37JW",
        "outputId": "3a3c526e-b106-4fc8-93bc-58c37bc0b8c2"
      },
      "execution_count": 16,
      "outputs": [
        {
          "output_type": "stream",
          "name": "stdout",
          "text": [
            "Nhap so thuc a: 5\n",
            "Nhap so mu n: 4\n",
            "Ket qua 5.0^4 = 625.0\n"
          ]
        }
      ]
    },
    {
      "cell_type": "markdown",
      "source": [],
      "metadata": {
        "id": "ojDTqsHSs4tL"
      }
    },
    {
      "cell_type": "markdown",
      "source": [
        "Bài 7. Đảo số"
      ],
      "metadata": {
        "id": "HEYfZeHL3_fS"
      }
    },
    {
      "cell_type": "code",
      "source": [
        "# Nhập số nguyên 4 chữ số\n",
        "x = int(input(\"Nhap so nguyen x (4 chu so): \"))\n",
        "\n",
        "# Đảo số bằng cách chuyển sang chuỗi\n",
        "y = int(str(x)[::-1])\n",
        "\n",
        "print(f\"So dao cua {x} la {y}\")"
      ],
      "metadata": {
        "colab": {
          "base_uri": "https://localhost:8080/"
        },
        "id": "jearirMC4BtY",
        "outputId": "29660c05-f6b5-4e8b-f600-db12ff104c46"
      },
      "execution_count": 17,
      "outputs": [
        {
          "output_type": "stream",
          "name": "stdout",
          "text": [
            "Nhap so nguyen x (4 chu so): 1234\n",
            "So dao cua 1234 la 4321\n"
          ]
        }
      ]
    },
    {
      "cell_type": "markdown",
      "source": [
        "Bài 8. Độ sang Radian"
      ],
      "metadata": {
        "id": "6b5nYXGq4ISn"
      }
    },
    {
      "cell_type": "code",
      "source": [
        "# Nhập số đo góc theo độ\n",
        "degree = float(input(\"Nhap goc (do): \"))\n",
        "\n",
        "# Đổi sang radian\n",
        "radian = degree * math.pi / 180\n",
        "\n",
        "print(f\"{degree} do = {radian:.4f} radian\")"
      ],
      "metadata": {
        "colab": {
          "base_uri": "https://localhost:8080/"
        },
        "id": "okdpPGJi4KVE",
        "outputId": "a1307e7d-9ad7-47a4-ef20-23b5f5efd47e"
      },
      "execution_count": 18,
      "outputs": [
        {
          "output_type": "stream",
          "name": "stdout",
          "text": [
            "Nhap goc (do): 24\n",
            "24.0 do = 0.4189 radian\n"
          ]
        }
      ]
    },
    {
      "cell_type": "markdown",
      "source": [
        "Bài 9. Hàm số 1![Ảnh chụp màn hình 2025-08-24 092204.png](data:image/png;base64,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)"
      ],
      "metadata": {
        "id": "S4lU1Eno4Zn1"
      }
    },
    {
      "cell_type": "code",
      "source": [
        "# Nhập số thực x\n",
        "x = float(input(\"Nhap gia tri x: \"))\n",
        "\n",
        "# Tính y1\n",
        "y1 = 4 * (x**2 + 10*x*math.sqrt(x) + 3*x + 1)\n",
        "\n",
        "# Tính y2\n",
        "tu = math.sin(math.pi * x**2) + math.sqrt(x**2 + 1)\n",
        "mau = math.exp(2*x) + math.cos((math.pi/4) * x)\n",
        "y2 = tu / mau\n",
        "\n",
        "# In kết quả (làm tròn 2 số lẻ thập phân)\n",
        "print(f\"y1 = {y1:.2f}\")\n",
        "print(f\"y2 = {y2:.2f}\")"
      ],
      "metadata": {
        "colab": {
          "base_uri": "https://localhost:8080/"
        },
        "id": "qobbfsN75Jgo",
        "outputId": "384552cd-f829-4dcb-dd10-53a87c7554e0"
      },
      "execution_count": 19,
      "outputs": [
        {
          "output_type": "stream",
          "name": "stdout",
          "text": [
            "Nhap gia tri x: 4\n",
            "y1 = 436.00\n",
            "y2 = 0.00\n"
          ]
        }
      ]
    },
    {
      "cell_type": "markdown",
      "source": [
        "Bài 10. Khoảng cách"
      ],
      "metadata": {
        "id": "ucWPh7mE5dXz"
      }
    },
    {
      "cell_type": "code",
      "source": [
        "# Nhập tọa độ 2 điểm\n",
        "x1 = float(input(\"Nhap x1: \"))\n",
        "y1 = float(input(\"Nhap y1: \"))\n",
        "x2 = float(input(\"Nhap x2: \"))\n",
        "y2 = float(input(\"Nhap y2: \"))\n",
        "\n",
        "# Tính khoảng cách\n",
        "d = math.sqrt((x2 - x1)**2 + (y2 - y1)**2)\n",
        "\n",
        "# In kết quả (2 số lẻ)\n",
        "print(f\"Khoang cach giua A({x1},{y1}) va B({x2},{y2}) la {d:.2f}\")"
      ],
      "metadata": {
        "colab": {
          "base_uri": "https://localhost:8080/"
        },
        "id": "oV7VZM3y5hy1",
        "outputId": "0e8336af-4229-4f42-c7d2-95946cb28668"
      },
      "execution_count": 20,
      "outputs": [
        {
          "output_type": "stream",
          "name": "stdout",
          "text": [
            "Nhap x1: 5\n",
            "Nhap y1: 4\n",
            "Nhap x2: 3\n",
            "Nhap y2: 4\n",
            "Khoang cach giua A(5.0,4.0) va B(3.0,4.0) la 2.00\n"
          ]
        }
      ]
    },
    {
      "cell_type": "markdown",
      "source": [],
      "metadata": {
        "id": "c1hZEhEd5bPT"
      }
    }
  ]
}